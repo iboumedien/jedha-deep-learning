{
 "cells": [
  {
   "cell_type": "code",
   "execution_count": 6,
   "metadata": {},
   "outputs": [],
   "source": [
    "import torch\n",
    "from models import DeepNet, Dataset\n",
    "\n",
    "BATCH_SIZE = 32\n",
    "NB_CLASSES = 16\n",
    "NUM_EPOCHS = 12\n",
    "MODELPATH = 'models/'\n",
    "\n",
    "Data = Dataset(BATCH_SIZE)\n",
    "training_data, validation_data = Data.create('images/')"
   ]
  },
  {
   "cell_type": "code",
   "execution_count": 9,
   "metadata": {},
   "outputs": [
    {
     "name": "stdout",
     "output_type": "stream",
     "text": [
      "EPOCH #0 ... Validation accuracy : 0.33125\n",
      "EPOCH #1 ... Validation accuracy : 0.4625\n",
      "EPOCH #2 ... Validation accuracy : 0.61875\n",
      "EPOCH #3 ... Validation accuracy : 0.575\n",
      "EPOCH #4 ... Validation accuracy : 0.6125\n",
      "EPOCH #5 ... Validation accuracy : 0.7\n",
      "EPOCH #6 ... Validation accuracy : 0.6125\n",
      "EPOCH #7 ... Validation accuracy : 0.6875\n",
      "EPOCH #8 ... Validation accuracy : 0.5625\n",
      "EPOCH #9 ... Validation accuracy : 0.61875\n",
      "EPOCH #10 ... Validation accuracy : 0.6375\n",
      "EPOCH #11 ... Validation accuracy : 0.63125\n",
      "EPOCH #12 ... Validation accuracy : 0.51875\n",
      "EPOCH #13 ... Validation accuracy : 0.675\n",
      "EPOCH #14 ... Validation accuracy : 0.7\n",
      "EPOCH #15 ... Validation accuracy : 0.63125\n",
      "EPOCH #16 ... Validation accuracy : 0.66875\n",
      "EPOCH #17 ... Validation accuracy : 0.6875\n",
      "EPOCH #18 ... Validation accuracy : 0.68125\n",
      "EPOCH #19 ... Validation accuracy : 0.6875\n",
      "EPOCH #20 ... Validation accuracy : 0.66875\n",
      "EPOCH #21 ... Validation accuracy : 0.66875\n",
      "EPOCH #22 ... Validation accuracy : 0.65625\n",
      "EPOCH #23 ... Validation accuracy : 0.65\n",
      "EPOCH #24 ... Validation accuracy : 0.6875\n",
      "EPOCH #25 ... Validation accuracy : 0.66875\n",
      "EPOCH #26 ... Validation accuracy : 0.7375\n",
      "EPOCH #27 ... Validation accuracy : 0.70625\n",
      "EPOCH #28 ... Validation accuracy : 0.69375\n",
      "EPOCH #29 ... Validation accuracy : 0.6625\n",
      "EPOCH #30 ... Validation accuracy : 0.6625\n",
      "EPOCH #31 ... Validation accuracy : 0.65625\n"
     ]
    }
   ],
   "source": [
    "deep_net = DeepNet('resnet', NB_CLASSES, full_backprop=True)\n",
    "criterion = torch.nn.CrossEntropyLoss()\n",
    "optimizer = torch.optim.Adam(filter(lambda p: p.requires_grad,deep_net.parameters()))\n",
    "deep_net.fit(training_data, validation_data, criterion, optimizer, num_epochs=NUM_EPOCHS)"
   ]
  },
  {
   "cell_type": "code",
   "execution_count": 10,
   "metadata": {},
   "outputs": [
    {
     "data": {
      "image/png": "[encoded data removed]",
      "text/plain": [
       "<matplotlib.figure.Figure at 0x7f28bf59a4a8>"
      ]
     },
     "metadata": {},
     "output_type": "display_data"
    }
   ],
   "source": [
    "%matplotlib inline\n",
    "import matplotlib.pyplot as plt\n",
    "import json\n",
    "\n",
    "plt.figure(figsize = (8,6))\n",
    "plt.title('Training (green) and Validation (red) Accuracy : Full backprop, Adam')\n",
    "plt.xlabel('Epochs')\n",
    "plt.ylabel('Accuracy (%)')\n",
    "plt.plot(deep_net.tr_accuracy, 'g')\n",
    "plt.plot(deep_net.val_accuracy, 'r')\n",
    "accuracies = {'training':deep_net.tr_accuracy, 'validation':deep_net.val_accuracy}\n",
    "\n",
    "plt.savefig('plots/deep_net_full_adam.png', bbox_inches='tight', pad_inches=0)\n",
    "torch.save(deep_net.state_dict(), open('models/deep_net_full_adam.pt','wb'))\n",
    "json.dump(accuracies, open('models/deep_net_full_adam_acc.np','w'))"
   ]
  },
  {
   "cell_type": "markdown",
   "metadata": {},
   "source": [
    "# Retrieve the data"
   ]
  },
  {
   "cell_type": "markdown",
   "metadata": {},
   "source": [
    "See flickr_crawler.py . \n",
    "There are many available APIs for websites like Flickr, Google, Bing, Twitter that allows to crawl through content and download available images based on queries.\n",
    "For this experiment, we want to recognize fruits in photos. Some samples of the data retrieved: \n",
    "    \n",
    "<table><tr><td><img src='images/train/cherry/img0000.jpg' width=80></td><td><img src='images/train/cherry/img0003.jpg' width=80></td><td><img src='images/train/banana/img0000.jpg' width=80></td><td><img src='images/train/banana/img00011.jpg' width=80></td><td><img src='images/train/pineapple/img0000.jpg' width=80></td><td><img src='images/train/pineapple/img0007.jpg' width=80></td><td><img src='images/train/lemon/img0000.jpg' width=80></td><td><img src='images/train/lemon/img0002.jpg' width=80></td><td><img src='images/train/lychee/img0000.jpg' width=80></td><td><img src='images/train/lychee/img0001.jpg' width=80></td><td><img src='images/train/blackberry/img0001.jpg' width=80></td><td><img src='images/train/blackberry/img0004.jpg' width=80></td></tr></table>\n",
    "\n",
    "It's not perfect but it works ! "
   ]
  },
  {
   "cell_type": "markdown",
   "metadata": {},
   "source": [
    "# Format the Data"
   ]
  },
  {
   "cell_type": "markdown",
   "metadata": {},
   "source": [
    "We will use PyTorch functionalities for this. With PyTorch, two modules you should know about for data handling:\n",
    " - Dataset : where and how to access your data. Is your data images, arrays, is it labelled ...\n",
    " - Dataloader : load the dataset. Can transfer it directly to the GPU for faster training execution"
   ]
  },
  {
   "cell_type": "code",
   "execution_count": 11,
   "metadata": {},
   "outputs": [],
   "source": [
    "#todo : split class dataset of models into dataset and dataloader (should just be a function), and create the data"
   ]
  },
  {
   "cell_type": "markdown",
   "metadata": {},
   "source": [
    "# Build the architecture"
   ]
  },
  {
   "cell_type": "code",
   "execution_count": 13,
   "metadata": {},
   "outputs": [],
   "source": [
    "# possible basemodels"
   ]
  },
  {
   "cell_type": "code",
   "execution_count": 15,
   "metadata": {},
   "outputs": [],
   "source": [
    "# how PyTorch does the backward algorithm. What are Variable vs Tensors"
   ]
  },
  {
   "cell_type": "code",
   "execution_count": 16,
   "metadata": {},
   "outputs": [],
   "source": [
    "# class DeepNet"
   ]
  },
  {
   "cell_type": "markdown",
   "metadata": {},
   "source": [
    "# Learn the network"
   ]
  },
  {
   "cell_type": "code",
   "execution_count": 17,
   "metadata": {},
   "outputs": [],
   "source": [
    "# cells above. Visualise learning results (tensorboardX demo ?) "
   ]
  }
 ],
 "metadata": {
  "kernelspec": {
   "display_name": "Python 3",
   "language": "python",
   "name": "python3"
  },
  "language_info": {
   "codemirror_mode": {
    "name": "ipython",
    "version": 3
   },
   "file_extension": ".py",
   "mimetype": "text/x-python",
   "name": "python",
   "nbconvert_exporter": "python",
   "pygments_lexer": "ipython3",
   "version": "3.6.3"
  }
 },
 "nbformat": 4,
 "nbformat_minor": 2
}
